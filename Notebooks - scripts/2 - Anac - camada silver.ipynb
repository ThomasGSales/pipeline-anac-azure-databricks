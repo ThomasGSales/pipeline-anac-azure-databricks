{
 "cells": [
  {
   "cell_type": "code",
   "execution_count": 0,
   "metadata": {
    "application/vnd.databricks.v1+cell": {
     "cellMetadata": {
      "byteLimit": 2048000,
      "rowLimit": 10000
     },
     "inputWidgets": {},
     "nuid": "38caa28f-58d6-4bcb-a993-8bbd28234729",
     "showTitle": false,
     "tableResultSettingsMap": {},
     "title": ""
    }
   },
   "outputs": [],
   "source": [
    "df = spark.read.option(\"skipRows\", 1).option(\"header\", True).option(\"sep\", \";\").option(\"inferSchema\", True).csv(\"/mnt/Anac/Bronze/V_OCORRENCIA_AMPLA.csv\")"
   ]
  },
  {
   "cell_type": "code",
   "execution_count": 0,
   "metadata": {
    "application/vnd.databricks.v1+cell": {
     "cellMetadata": {
      "byteLimit": 2048000,
      "rowLimit": 10000
     },
     "inputWidgets": {},
     "nuid": "9fea7274-a11b-47cc-8ca7-fd6c4b0139ff",
     "showTitle": false,
     "tableResultSettingsMap": {},
     "title": ""
    }
   },
   "outputs": [],
   "source": [
    "colunas = ['Numero_da_Ocorrencia', 'Numero_da_Ficha', 'Operador_Padronizado', 'Classificacao_da_Ocorrencia', 'Data_da_Ocorrencia', 'Hora_da_Ocorrencia', 'Municipio', 'UF', 'Regiao', 'Descricao_do_Tipo', 'ICAO', 'Latitude', 'Longitude', 'Tipo_de_Aerodromo', 'Historico', 'Matricula', 'Categoria_da_Aeronave', 'Operador', 'Tipo_de_Ocorrencia', 'Fase_da_Operacao', 'Operacao', 'Danos_a_Aeronave', 'Aerodromo_de_Destino', 'Aerodromo_de_Origem', 'Lesoes_Fatais_Tripulantes', 'Lesoes_Fatais_Passageiros', 'Lesoes_Fatais_Terceiros', 'Lesoes_Graves_Tripulantes', 'Lesoes_Graves_Passageiros', 'Lesoes_Graves_Terceiros', 'Lesoes_Leves_Tripulantes', 'Lesoes_Leves_Passageiros', 'Lesoes_Leves_Terceiros', 'Ilesos_Tripulantes', 'Ilesos_Passageiros', 'Lesoes_Desconhecidas_Tripulantes', 'Lesoes_Desconhecidas_Passageiros', 'Lesoes_Desconhecidas_Terceiros', 'Modelo', 'CLS', 'Tipo_ICAO', 'PMD', 'Numero_de_Assentos', 'Nome_do_Fabricante', 'PSSO']\n",
    "\n",
    "\n",
    "for ajuste in colunas:\n",
    "    df = df.fillna(\"Sem registro\", subset=[ajuste])"
   ]
  },
  {
   "cell_type": "code",
   "execution_count": 0,
   "metadata": {
    "application/vnd.databricks.v1+cell": {
     "cellMetadata": {
      "byteLimit": 2048000,
      "rowLimit": 10000
     },
     "inputWidgets": {},
     "nuid": "4c353b34-e0d5-4d26-b61e-2cae88ff60fc",
     "showTitle": false,
     "tableResultSettingsMap": {},
     "title": ""
    }
   },
   "outputs": [],
   "source": [
    "colunasLesoes = [col for col in df.columns if 'Lesoes' in col]\n",
    "\n",
    "for coluna in colunasLesoes:\n",
    "    df = df.withColumn(coluna, df[coluna].cast('int')).fillna(0, subset=[coluna])"
   ]
  },
  {
   "cell_type": "code",
   "execution_count": 0,
   "metadata": {
    "application/vnd.databricks.v1+cell": {
     "cellMetadata": {
      "byteLimit": 2048000,
      "rowLimit": 10000
     },
     "inputWidgets": {},
     "nuid": "8e327726-f159-4723-bb66-78634ec88e5b",
     "showTitle": false,
     "tableResultSettingsMap": {},
     "title": ""
    }
   },
   "outputs": [],
   "source": [
    "df.write.mode(\"overwrite\").parquet(\"/mnt/Anac/Silver/anac_silver.parquet\")"
   ]
  }
 ],
 "metadata": {
  "application/vnd.databricks.v1+notebook": {
   "computePreferences": null,
   "dashboards": [],
   "environmentMetadata": {
    "base_environment": "",
    "environment_version": "2"
   },
   "inputWidgetPreferences": null,
   "language": "python",
   "notebookMetadata": {
    "mostRecentlyExecutedCommandWithImplicitDF": {
     "commandId": 5943160327799283,
     "dataframes": [
      "_sqldf"
     ]
    },
    "pythonIndentUnit": 4
   },
   "notebookName": "2 - Anac - camada silver",
   "widgets": {}
  },
  "language_info": {
   "name": "python"
  }
 },
 "nbformat": 4,
 "nbformat_minor": 0
}
